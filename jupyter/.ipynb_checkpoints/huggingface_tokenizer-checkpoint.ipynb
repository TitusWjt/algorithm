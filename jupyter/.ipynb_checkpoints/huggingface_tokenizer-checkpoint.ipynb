{
 "cells": [
  {
   "cell_type": "markdown",
   "id": "2d063c8b-af64-4629-a2fb-d6830ee1f2d7",
   "metadata": {},
   "source": [
    "# Tokenizer"
   ]
  },
  {
   "cell_type": "markdown",
   "id": "ca8a71cb-7f25-4470-a2c8-4031203a383f",
   "metadata": {},
   "source": [
    "一般的步骤是先分词，然后构造词典映射，然后在根据词典将文本转化为数字，最后填充和截断。\n",
    "但是现在都不需要，transformers都封装好了，只需要把数据准备好调用tokenizer就行了"
   ]
  },
  {
   "cell_type": "code",
   "execution_count": 13,
   "id": "c67e3d22-c004-4ef5-a9b4-0f6a57188983",
   "metadata": {},
   "outputs": [
    {
     "name": "stderr",
     "output_type": "stream",
     "text": [
      "Using bos_token, but it is not set yet.\n",
      "Using eos_token, but it is not set yet.\n"
     ]
    },
    {
     "data": {
      "text/plain": [
       "BertTokenizerFast(name_or_path='/root/autodl-tmp/bert-base-uncased', vocab_size=30522, model_max_length=1000000000000000019884624838656, is_fast=True, padding_side='right', truncation_side='right', special_tokens={'unk_token': '[UNK]', 'sep_token': '[SEP]', 'pad_token': '[PAD]', 'cls_token': '[CLS]', 'mask_token': '[MASK]'}, clean_up_tokenization_spaces=True),  added_tokens_decoder={\n",
       "\t0: AddedToken(\"[PAD]\", rstrip=False, lstrip=False, single_word=False, normalized=False, special=True),\n",
       "\t100: AddedToken(\"[UNK]\", rstrip=False, lstrip=False, single_word=False, normalized=False, special=True),\n",
       "\t101: AddedToken(\"[CLS]\", rstrip=False, lstrip=False, single_word=False, normalized=False, special=True),\n",
       "\t102: AddedToken(\"[SEP]\", rstrip=False, lstrip=False, single_word=False, normalized=False, special=True),\n",
       "\t103: AddedToken(\"[MASK]\", rstrip=False, lstrip=False, single_word=False, normalized=False, special=True),\n",
       "}"
      ]
     },
     "execution_count": 13,
     "metadata": {},
     "output_type": "execute_result"
    }
   ],
   "source": [
    "from transformers import AutoTokenizer\n",
    "sentence = 'I love you.'\n",
    "tokenizer = AutoTokenizer.from_pretrained('/root/autodl-tmp/bert-base-uncased')\n",
    "tokenizer"
   ]
  },
  {
   "cell_type": "markdown",
   "id": "45efe666-174a-40a1-af97-e5f03be989e6",
   "metadata": {},
   "source": [
    "### 分词器tokenizer的tokenize方法可以直接分词"
   ]
  },
  {
   "cell_type": "code",
   "execution_count": 30,
   "id": "f63ceddd-e5f3-4ebc-a93d-13049d6dc8ae",
   "metadata": {},
   "outputs": [
    {
     "data": {
      "text/plain": [
       "['i', 'love', 'you', '.']"
      ]
     },
     "execution_count": 30,
     "metadata": {},
     "output_type": "execute_result"
    }
   ],
   "source": [
    "tokens = tokenizer.tokenize(sentence)\n",
    "tokens"
   ]
  },
  {
   "cell_type": "code",
   "execution_count": 18,
   "id": "02d4634b-4c00-4ded-a7e0-6aa6fe376c20",
   "metadata": {},
   "outputs": [
    {
     "data": {
      "text/plain": [
       "30522"
      ]
     },
     "execution_count": 18,
     "metadata": {},
     "output_type": "execute_result"
    }
   ],
   "source": [
    "#词表长度\n",
    "len(tokenizer.vocab)"
   ]
  },
  {
   "cell_type": "markdown",
   "id": "3cb6b0f3-ad4b-4db5-aa39-c953a29db1ff",
   "metadata": {},
   "source": [
    "### 词和词索引的相互转化"
   ]
  },
  {
   "cell_type": "code",
   "execution_count": 23,
   "id": "deed88df-d002-4632-9359-b1b54a2e8ceb",
   "metadata": {},
   "outputs": [
    {
     "data": {
      "text/plain": [
       "[1045, 2293, 2017, 1012]"
      ]
     },
     "execution_count": 23,
     "metadata": {},
     "output_type": "execute_result"
    }
   ],
   "source": [
    "ids = tokenizer.convert_tokens_to_ids(tokens)\n",
    "ids"
   ]
  },
  {
   "cell_type": "code",
   "execution_count": 32,
   "id": "b079e42e-5247-4741-9cda-6f33e33dbe0b",
   "metadata": {},
   "outputs": [
    {
     "data": {
      "text/plain": [
       "['[CLS]', 'i', 'love', 'you', '.', '[SEP]']"
      ]
     },
     "execution_count": 32,
     "metadata": {},
     "output_type": "execute_result"
    }
   ],
   "source": [
    "tokens = tokenizer.convert_ids_to_tokens(ids)\n",
    "tokens"
   ]
  },
  {
   "cell_type": "code",
   "execution_count": 27,
   "id": "1ccd2627-95ef-460e-86b3-1ade8b578ff2",
   "metadata": {},
   "outputs": [
    {
     "data": {
      "text/plain": [
       "[101, 1045, 2293, 2017, 1012, 102]"
      ]
     },
     "execution_count": 27,
     "metadata": {},
     "output_type": "execute_result"
    }
   ],
   "source": [
    "ids = tokenizer.encode(sentence, add_special_tokens=True)\n",
    "ids"
   ]
  },
  {
   "cell_type": "code",
   "execution_count": 29,
   "id": "b97b693a-e9e3-4173-856b-26c7f8d41a4b",
   "metadata": {},
   "outputs": [
    {
     "data": {
      "text/plain": [
       "'[CLS] i love you. [SEP]'"
      ]
     },
     "execution_count": 29,
     "metadata": {},
     "output_type": "execute_result"
    }
   ],
   "source": [
    "str_sen = tokenizer.decode(ids, skip_special_tokens=False)\n",
    "str_sen"
   ]
  },
  {
   "cell_type": "markdown",
   "id": "3e08371d-ed9c-4e64-a34c-dbcaf108e39b",
   "metadata": {},
   "source": [
    "### 填充和截断"
   ]
  },
  {
   "cell_type": "code",
   "execution_count": 38,
   "id": "244283ca-1133-49a8-9828-34cee5da910f",
   "metadata": {},
   "outputs": [
    {
     "data": {
      "text/plain": [
       "[101, 102]"
      ]
     },
     "execution_count": 38,
     "metadata": {},
     "output_type": "execute_result"
    }
   ],
   "source": [
    "# 截断\n",
    "ids = tokenizer.encode(sentence, max_length=2, truncation=True)\n",
    "ids"
   ]
  },
  {
   "cell_type": "code",
   "execution_count": 39,
   "id": "49d00832-fb29-4d80-82af-950320cf0ce5",
   "metadata": {},
   "outputs": [
    {
     "data": {
      "text/plain": [
       "[101, 1045, 2293, 2017, 1012, 102, 0, 0, 0, 0, 0, 0, 0, 0, 0]"
      ]
     },
     "execution_count": 39,
     "metadata": {},
     "output_type": "execute_result"
    }
   ],
   "source": [
    "# 填充\n",
    "ids = tokenizer.encode(sentence, padding=\"max_length\", max_length=15)\n",
    "ids"
   ]
  },
  {
   "cell_type": "code",
   "execution_count": 40,
   "id": "d94983c5-98ff-47a3-bb8c-6bcdb8a0af6f",
   "metadata": {},
   "outputs": [
    {
     "data": {
      "text/plain": [
       "([101, 1045, 2293, 2017, 1012, 102, 0, 0, 0, 0, 0, 0, 0, 0, 0],\n",
       " [1, 1, 1, 1, 1, 1, 0, 0, 0, 0, 0, 0, 0, 0, 0],\n",
       " [0, 0, 0, 0, 0, 0, 0, 0, 0, 0, 0, 0, 0, 0, 0])"
      ]
     },
     "execution_count": 40,
     "metadata": {},
     "output_type": "execute_result"
    }
   ],
   "source": [
    "attention_mask = [1 if idx != 0 else 0 for idx in ids]\n",
    "token_type_ids = [0] * len(ids)\n",
    "ids, attention_mask, token_type_ids"
   ]
  },
  {
   "cell_type": "markdown",
   "id": "ec1d97c6-6010-403d-b1f3-0b1e01b32a10",
   "metadata": {},
   "source": [
    "### 处理batch数据"
   ]
  },
  {
   "cell_type": "code",
   "execution_count": 45,
   "id": "a9eb30e5-897f-4010-bdce-5836f3f07787",
   "metadata": {},
   "outputs": [
    {
     "data": {
      "text/plain": [
       "{'input_ids': [[101, 2429, 2000, 4116, 9765, 5654, 23361, 1010, 2343, 1997, 1996, 3000, 3783, 10863, 2837, 1010, 1037, 2569, 2724, 2007, 3479, 7576, 1999, 5270, 2097, 4148, 2006, 1996, 2314, 16470, 2006, 9317, 2000, 2928, 1996, 2028, 1011, 2095, 18144, 2005, 1996, 3000, 3783, 1012, 102], [101, 1045, 2293, 2017, 1012, 102], [101, 2048, 2706, 2041, 1998, 2474, 12588, 7281, 4341, 5632, 1037, 12992, 2013, 2531, 1011, 2154, 2824, 1998, 1996, 12723, 8846, 1012, 102]], 'token_type_ids': [[0, 0, 0, 0, 0, 0, 0, 0, 0, 0, 0, 0, 0, 0, 0, 0, 0, 0, 0, 0, 0, 0, 0, 0, 0, 0, 0, 0, 0, 0, 0, 0, 0, 0, 0, 0, 0, 0, 0, 0, 0, 0, 0, 0, 0], [0, 0, 0, 0, 0, 0], [0, 0, 0, 0, 0, 0, 0, 0, 0, 0, 0, 0, 0, 0, 0, 0, 0, 0, 0, 0, 0, 0, 0]], 'attention_mask': [[1, 1, 1, 1, 1, 1, 1, 1, 1, 1, 1, 1, 1, 1, 1, 1, 1, 1, 1, 1, 1, 1, 1, 1, 1, 1, 1, 1, 1, 1, 1, 1, 1, 1, 1, 1, 1, 1, 1, 1, 1, 1, 1, 1, 1], [1, 1, 1, 1, 1, 1], [1, 1, 1, 1, 1, 1, 1, 1, 1, 1, 1, 1, 1, 1, 1, 1, 1, 1, 1, 1, 1, 1, 1]]}"
      ]
     },
     "execution_count": 45,
     "metadata": {},
     "output_type": "execute_result"
    }
   ],
   "source": [
    "sens = [\"According to Tony Estanguet, president of the Paris Olympics Organizing Committee, a special event with selected athletes in attendance will happen on the River Seine on Wednesday to mark the one-year countdown for the Paris Olympics.\",\n",
    "        \"I love you.\",\n",
    "        \"Two months out and lagging ticket sales enjoyed a boost from 100-day events and the torch relay.\"]\n",
    "res = tokenizer(sens)\n",
    "res"
   ]
  },
  {
   "cell_type": "markdown",
   "id": "1448f2d9-e52b-4b35-9842-9c771ced3e67",
   "metadata": {},
   "source": [
    "### 当加载大模型分词器的时候我们添加相信远程代码的参数"
   ]
  },
  {
   "cell_type": "code",
   "execution_count": null,
   "id": "0bacfca2-c981-4f94-a3b5-663b38264ef7",
   "metadata": {},
   "outputs": [],
   "source": [
    "from transformers import AutoTokenizer\n",
    "tokenizer = AutoTokenizer.from_pretrained('THUDM/chatglm-6b', trust_remote_code=True)"
   ]
  }
 ],
 "metadata": {
  "kernelspec": {
   "display_name": "Python 3 (ipykernel)",
   "language": "python",
   "name": "python3"
  },
  "language_info": {
   "codemirror_mode": {
    "name": "ipython",
    "version": 3
   },
   "file_extension": ".py",
   "mimetype": "text/x-python",
   "name": "python",
   "nbconvert_exporter": "python",
   "pygments_lexer": "ipython3",
   "version": "3.8.18"
  }
 },
 "nbformat": 4,
 "nbformat_minor": 5
}
