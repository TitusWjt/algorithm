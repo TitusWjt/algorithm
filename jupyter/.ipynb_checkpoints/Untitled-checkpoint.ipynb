{
 "cells": [
  {
   "cell_type": "code",
   "execution_count": null,
   "id": "af22102f-ea20-4465-a0f7-1284fd15ee92",
   "metadata": {},
   "outputs": [],
   "source": [
    "\n",
    "\n",
    "curl https://api.openai.com/v1/audio/transcriptions \\\n",
    "  -H \"Authorization: Bearer $OPENAI_API_KEY\" \\\n",
    "  -H \"Content-Type: multipart/form-data\" \\\n",
    "  -F file=\"@/path/to/file/audio.mp3\" \\\n",
    "  -F model=\"whisper-1\""
   ]
  }
 ],
 "metadata": {
  "kernelspec": {
   "display_name": "Python 3 (ipykernel)",
   "language": "python",
   "name": "python3"
  },
  "language_info": {
   "codemirror_mode": {
    "name": "ipython",
    "version": 3
   },
   "file_extension": ".py",
   "mimetype": "text/x-python",
   "name": "python",
   "nbconvert_exporter": "python",
   "pygments_lexer": "ipython3",
   "version": "3.8.18"
  }
 },
 "nbformat": 4,
 "nbformat_minor": 5
}
